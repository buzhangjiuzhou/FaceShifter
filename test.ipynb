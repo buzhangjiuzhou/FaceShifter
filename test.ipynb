{
 "metadata": {
  "language_info": {
   "codemirror_mode": {
    "name": "ipython",
    "version": 3
   },
   "file_extension": ".py",
   "mimetype": "text/x-python",
   "name": "python",
   "nbconvert_exporter": "python",
   "pygments_lexer": "ipython3",
   "version": "3.7.7-final"
  },
  "orig_nbformat": 2,
  "kernelspec": {
   "name": "python_defaultSpec_1600426929340",
   "display_name": "Python 3.7.7 64-bit ('liuran': conda)"
  }
 },
 "nbformat": 4,
 "nbformat_minor": 2,
 "cells": [
  {
   "cell_type": "code",
   "execution_count": 16,
   "metadata": {},
   "outputs": [],
   "source": [
    "import os,glob\n",
    "from PIL import Image\n",
    "from skimage import io\n",
    "import numpy as np\n"
   ]
  },
  {
   "cell_type": "code",
   "execution_count": 17,
   "metadata": {},
   "outputs": [],
   "source": [
    "img_root_dir = '/media/gpu/Data2/liuran/vggface2/train/n000002/0001_01.jpg'\n",
    "save_path = '/media/gpu/Data2/liuran/vggface2_256_0.85/00000000.jpg'"
   ]
  },
  {
   "cell_type": "code",
   "execution_count": 18,
   "metadata": {
    "tags": []
   },
   "outputs": [
    {
     "output_type": "stream",
     "name": "stdout",
     "text": "<PIL.JpegImagePlugin.JpegImageFile image mode=RGB size=544x622 at 0x7FD5B504F110>\n132.74597972227477\n<PIL.JpegImagePlugin.JpegImageFile image mode=RGB size=256x256 at 0x7FD5B504F710>\n119.48682657877605\n"
    }
   ],
   "source": [
    "images = Image.open(img_root_dir)\n",
    "print(images)\n",
    "print(np.mean(images))\n",
    "images.show()\n",
    "images_test = Image.open(save_path)\n",
    "print(images_test)\n",
    "print(np.mean(images_test))"
   ]
  },
  {
   "cell_type": "code",
   "execution_count": 19,
   "metadata": {},
   "outputs": [],
   "source": [
    "images = Image.open(img_root_dir)\n",
    "images.show()"
   ]
  },
  {
   "cell_type": "code",
   "execution_count": null,
   "metadata": {},
   "outputs": [],
   "source": []
  }
 ]
}